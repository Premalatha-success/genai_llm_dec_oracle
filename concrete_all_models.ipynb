{
  "nbformat": 4,
  "nbformat_minor": 0,
  "metadata": {
    "colab": {
      "provenance": []
    },
    "kernelspec": {
      "name": "python3",
      "display_name": "Python 3"
    },
    "language_info": {
      "name": "python"
    }
  },
  "cells": [
    {
      "cell_type": "markdown",
      "source": [
        "Load the necessary packages"
      ],
      "metadata": {
        "id": "F-k1T0y5lxVr"
      }
    },
    {
      "cell_type": "markdown",
      "source": [
        "Load the Dataset"
      ],
      "metadata": {
        "id": "wkOdXy6al8JG"
      }
    },
    {
      "cell_type": "markdown",
      "source": [
        "Check the shape,information,statistcs"
      ],
      "metadata": {
        "id": "nCeLvBU-mCwF"
      }
    },
    {
      "cell_type": "markdown",
      "source": [
        "hist and pairplot"
      ],
      "metadata": {
        "id": "GZpcbmtzmH30"
      }
    },
    {
      "cell_type": "markdown",
      "source": [],
      "metadata": {
        "id": "06Q_gIJdmXmC"
      }
    },
    {
      "cell_type": "markdown",
      "source": [
        "check the skewness and correlation"
      ],
      "metadata": {
        "id": "Hxc43qtkmZkN"
      }
    },
    {
      "cell_type": "markdown",
      "source": [
        "implement all models"
      ],
      "metadata": {
        "id": "pUPzWGK_me0K"
      }
    },
    {
      "cell_type": "code",
      "source": [
        "from sklearn.linear_model import LinearRegression\n",
        "from sklearn.tree import DecisionTreeRegressor\n",
        "from sklearn.ensemble import RandomForestRegressor, GradientBoostingRegressor\n",
        "from sklearn.svm import SVR\n",
        "from sklearn.neighbors import KNeighborsRegressor"
      ],
      "metadata": {
        "id": "Uc0HFPcHmWD0"
      },
      "execution_count": 3,
      "outputs": []
    },
    {
      "cell_type": "code",
      "source": [],
      "metadata": {
        "id": "K4tglz3wmv3w"
      },
      "execution_count": null,
      "outputs": []
    }
  ]
}